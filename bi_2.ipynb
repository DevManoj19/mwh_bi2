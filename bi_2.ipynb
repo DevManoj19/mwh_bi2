{
  "nbformat": 4,
  "nbformat_minor": 0,
  "metadata": {
    "colab": {
      "provenance": [],
      "authorship_tag": "ABX9TyNzXZG6NKqcArC/VRVlJELh",
      "include_colab_link": true
    },
    "kernelspec": {
      "name": "python3",
      "display_name": "Python 3"
    },
    "language_info": {
      "name": "python"
    }
  },
  "cells": [
    {
      "cell_type": "markdown",
      "metadata": {
        "id": "view-in-github",
        "colab_type": "text"
      },
      "source": [
        "<a href=\"https://colab.research.google.com/github/DevManoj19/mwh_bi2/blob/main/bi_2.ipynb\" target=\"_parent\"><img src=\"https://colab.research.google.com/assets/colab-badge.svg\" alt=\"Open In Colab\"/></a>"
      ]
    },
    {
      "cell_type": "code",
      "execution_count": null,
      "metadata": {
        "colab": {
          "base_uri": "https://localhost:8080/"
        },
        "id": "1pCSKu5GZara",
        "outputId": "e8e485be-47f8-488f-e3e9-4fb07918b5b9"
      },
      "outputs": [
        {
          "output_type": "stream",
          "name": "stdout",
          "text": [
            "Collecting didkit\n",
            "  Downloading didkit-0.3.3-cp311-cp311-manylinux_2_17_x86_64.manylinux2014_x86_64.whl.metadata (2.8 kB)\n",
            "Downloading didkit-0.3.3-cp311-cp311-manylinux_2_17_x86_64.manylinux2014_x86_64.whl (8.7 MB)\n",
            "\u001b[2K   \u001b[90m━━━━━━━━━━━━━━━━━━━━━━━━━━━━━━━━━━━━━━━━\u001b[0m \u001b[32m8.7/8.7 MB\u001b[0m \u001b[31m3.8 MB/s\u001b[0m eta \u001b[36m0:00:00\u001b[0m\n",
            "\u001b[?25hInstalling collected packages: didkit\n",
            "Successfully installed didkit-0.3.3\n",
            "Collecting pyld\n",
            "  Downloading PyLD-2.0.4-py3-none-any.whl.metadata (10.0 kB)\n",
            "Requirement already satisfied: cachetools in /usr/local/lib/python3.11/dist-packages (from pyld) (5.5.2)\n",
            "Requirement already satisfied: frozendict in /usr/local/lib/python3.11/dist-packages (from pyld) (2.4.6)\n",
            "Requirement already satisfied: lxml in /usr/local/lib/python3.11/dist-packages (from pyld) (5.4.0)\n",
            "Downloading PyLD-2.0.4-py3-none-any.whl (70 kB)\n",
            "\u001b[2K   \u001b[90m━━━━━━━━━━━━━━━━━━━━━━━━━━━━━━━━━━━━━━━━\u001b[0m \u001b[32m70.9/70.9 kB\u001b[0m \u001b[31m1.7 MB/s\u001b[0m eta \u001b[36m0:00:00\u001b[0m\n",
            "\u001b[?25hInstalling collected packages: pyld\n",
            "Successfully installed pyld-2.0.4\n",
            "Requirement already satisfied: requests in /usr/local/lib/python3.11/dist-packages (2.32.3)\n",
            "Requirement already satisfied: charset-normalizer<4,>=2 in /usr/local/lib/python3.11/dist-packages (from requests) (3.4.2)\n",
            "Requirement already satisfied: idna<4,>=2.5 in /usr/local/lib/python3.11/dist-packages (from requests) (3.10)\n",
            "Requirement already satisfied: urllib3<3,>=1.21.1 in /usr/local/lib/python3.11/dist-packages (from requests) (2.4.0)\n",
            "Requirement already satisfied: certifi>=2017.4.17 in /usr/local/lib/python3.11/dist-packages (from requests) (2025.6.15)\n",
            "Reading package lists... Done\n",
            "Building dependency tree... Done\n",
            "Reading state information... Done\n",
            "libsodium-dev is already the newest version (1.0.18-1build2).\n",
            "libsodium-dev set to manually installed.\n",
            "0 upgraded, 0 newly installed, 0 to remove and 35 not upgraded.\n"
          ]
        }
      ],
      "source": [
        "!pip install didkit\n",
        "!pip install pyld\n",
        "!pip install requests\n",
        "!apt-get install -y libsodium-dev"
      ]
    },
    {
      "cell_type": "code",
      "source": [
        "import didkit\n",
        "import json\n",
        "import requests"
      ],
      "metadata": {
        "id": "I-d7lFkSZ8WN"
      },
      "execution_count": null,
      "outputs": []
    },
    {
      "cell_type": "code",
      "source": [
        "key = didkit.generate_ed25519_key()\n",
        "did = didkit.key_to_did(\"key\", key)\n",
        "print(\"DID:\", did)"
      ],
      "metadata": {
        "colab": {
          "base_uri": "https://localhost:8080/"
        },
        "id": "lbDJC_3caZJS",
        "outputId": "8c2f19f1-5714-4405-d583-b188ed4057f5"
      },
      "execution_count": null,
      "outputs": [
        {
          "output_type": "stream",
          "name": "stdout",
          "text": [
            "DID: did:key:z6MkgWEb8Xh6mxL48yE8Tq7Qe6a9nKsWRc43bc9x3ZUUzppC\n"
          ]
        }
      ]
    },
    {
      "cell_type": "code",
      "source": [
        "did_document = didkit.key_to_verification_method(\"key\", key)\n",
        "print(\"Verification Method:\", did_document)"
      ],
      "metadata": {
        "colab": {
          "base_uri": "https://localhost:8080/"
        },
        "id": "kmEDhaccafsQ",
        "outputId": "d710dd5a-cc65-4c70-8c27-03ee47f86a7a"
      },
      "execution_count": null,
      "outputs": [
        {
          "output_type": "stream",
          "name": "stdout",
          "text": [
            "Verification Method: <Future pending cb=[<builtins.PyDoneCallback object at 0x7e20eb853bb0>()]>\n"
          ]
        }
      ]
    },
    {
      "cell_type": "code",
      "source": [
        "base_url = \"https://demo.dataverse.org\"\n",
        "endpoint = \"/api/search?q=metadata\"\n",
        "response = requests.get(base_url + endpoint)\n",
        "print(response.json())"
      ],
      "metadata": {
        "colab": {
          "base_uri": "https://localhost:8080/"
        },
        "id": "YiiNqIFZas6Y",
        "outputId": "b680e022-8408-4300-a9b4-e85f4ce24a7f"
      },
      "execution_count": null,
      "outputs": [
        {
          "output_type": "stream",
          "name": "stdout",
          "text": [
            "{'status': 'OK', 'data': {'q': 'metadata', 'total_count': 51, 'start': 0, 'spelling_alternatives': {}, 'items': [{'name': 'Incomplete Metadata', 'type': 'dataverse', 'url': 'https://demo.dataverse.org/dataverse/incompletemetadata', 'identifier': 'incompletemetadata', 'published_at': '2024-12-16T20:36:10Z', 'publicationStatuses': ['Published'], 'affiliation': 'Harvard University', 'parentDataverseName': 'Demo Dataverse', 'parentDataverseIdentifier': 'demo'}, {'name': 'Testestest', 'type': 'dataset', 'url': 'https://doi.org/10.70122/FK2/PHENRZ', 'global_id': 'doi:10.70122/FK2/PHENRZ', 'description': 'testestest', 'published_at': '2024-12-16T20:36:11Z', 'publisher': 'Incomplete Metadata', 'citationHtml': 'Katz, Emily, 2024, \"Testestest\", <a href=\"https://doi.org/10.70122/FK2/PHENRZ\" target=\"_blank\">https://doi.org/10.70122/FK2/PHENRZ</a>, Demo Dataverse, V1', 'identifier_of_dataverse': 'incompletemetadata', 'name_of_dataverse': 'Incomplete Metadata', 'citation': 'Katz, Emily, 2024, \"Testestest\", https://doi.org/10.70122/FK2/PHENRZ, Demo Dataverse, V1', 'publicationStatuses': ['Published'], 'storageIdentifier': 's3://10.70122/FK2/PHENRZ', 'subjects': ['Arts and Humanities'], 'fileCount': 0, 'versionId': 276801, 'versionState': 'RELEASED', 'majorVersion': 1, 'minorVersion': 0, 'createdAt': '2024-12-16T20:35:57Z', 'updatedAt': '2024-12-16T20:36:11Z', 'contacts': [{'name': 'Katz, Emily', 'affiliation': 'Harvard University'}], 'publications': [{}], 'authors': ['Katz, Emily']}, {'name': 'reNEW Metadata Catalog - Dataverse Demo ', 'type': 'dataverse', 'url': 'https://demo.dataverse.org/dataverse/kumc-v1', 'identifier': 'kumc-v1', 'description': 'This Copenhagen University Metadata Catalog uses: 1. Metadata Fields from the Demo Dataverse 2. Browse and Search Facets from Demo Dataverse', 'published_at': '2022-06-26T16:13:16Z', 'publicationStatuses': ['Published'], 'affiliation': 'KUB Research Services', 'parentDataverseName': 'Demo Dataverse', 'parentDataverseIdentifier': 'demo'}, {'name': 'Harvard Library Open Metadata Project', 'type': 'dataverse', 'url': 'https://demo.dataverse.org/dataverse/hlopenmetadata', 'identifier': 'hlopenmetadata', 'description': 'This is a test dataverse containing datasets associated with the Harvard Library Open Metadata Project', 'published_at': '2022-04-04T21:20:33Z', 'publicationStatuses': ['Published'], 'affiliation': 'Harvard University', 'parentDataverseName': 'Demo Dataverse', 'parentDataverseIdentifier': 'demo'}, {'name': 'Testing Other metadata blocks Dataverse', 'type': 'dataverse', 'url': 'https://demo.dataverse.org/dataverse/metadataBlocks', 'identifier': 'metadataBlocks', 'published_at': '2024-10-22T08:54:07Z', 'publicationStatuses': ['Published'], 'affiliation': 'KU Leuven', 'parentDataverseName': 'Demo Dataverse', 'parentDataverseIdentifier': 'demo'}, {'name': 'Metadata - all .xml metadata files', 'type': 'dataset', 'url': 'https://doi.org/10.70122/FK2/V3IDAK', 'global_id': 'doi:10.70122/FK2/V3IDAK', 'description': 'Dataset contains sample .xml metadata files from digitization and data extraction process of Harvard College Observatory Announcement Cards.', 'published_at': '2024-11-21T14:13:35Z', 'publisher': 'Harvard College Observatory Announcement Cards - Test collection I', 'citationHtml': 'Mika, Katherine, 2024, \"Metadata - all .xml metadata files\", <a href=\"https://doi.org/10.70122/FK2/V3IDAK\" target=\"_blank\">https://doi.org/10.70122/FK2/V3IDAK</a>, Demo Dataverse, V1', 'identifier_of_dataverse': 'hco_format', 'name_of_dataverse': 'Harvard College Observatory Announcement Cards - Test collection I', 'citation': 'Mika, Katherine, 2024, \"Metadata - all .xml metadata files\", https://doi.org/10.70122/FK2/V3IDAK, Demo Dataverse, V1', 'publicationStatuses': ['Published'], 'storageIdentifier': 's3dir://10.70122/FK2/V3IDAK', 'keywords': ['Astronomy--Observations (LCSH)', 'Astronomy--Research (LCSH)', 'Women astronomers (LCSH)'], 'subjects': ['Astronomy and Astrophysics'], 'fileCount': 13, 'versionId': 273604, 'versionState': 'RELEASED', 'majorVersion': 1, 'minorVersion': 0, 'createdAt': '2024-11-21T14:11:32Z', 'updatedAt': '2024-11-21T14:13:35Z', 'contacts': [{'name': 'Mika, Katherine', 'affiliation': 'Harvard University'}], 'publications': [{}], 'producers': ['Harvard College Observatory'], 'authors': ['Mika, Katherine']}, {'name': 'Zenodo Semantics Optional Metadata v2', 'type': 'dataset', 'url': 'https://doi.org/10.70122/FK2/4GBT3M', 'image_url': 'https://demo.dataverse.org/api/datasets/2564478/logo', 'global_id': 'doi:10.70122/FK2/4GBT3M', 'description': 'title desc', 'published_at': '2025-03-28T13:44:26Z', 'publisher': 'OpenCDMP', 'citationHtml': 'dmproot dmproot, 2025, \"Zenodo Semantics Optional Metadata v2\", <a href=\"https://doi.org/10.70122/FK2/4GBT3M\" target=\"_blank\">https://doi.org/10.70122/FK2/4GBT3M</a>, Demo Dataverse, V1', 'identifier_of_dataverse': 'opencdmp', 'name_of_dataverse': 'OpenCDMP', 'citation': 'dmproot dmproot, 2025, \"Zenodo Semantics Optional Metadata v2\", https://doi.org/10.70122/FK2/4GBT3M, Demo Dataverse, V1', 'publicationStatuses': ['Published'], 'storageIdentifier': 's3://10.70122/FK2/4GBT3M', 'subjects': ['Other'], 'fileCount': 2, 'versionId': 290591, 'versionState': 'RELEASED', 'majorVersion': 1, 'minorVersion': 0, 'createdAt': '2025-03-28T13:44:22Z', 'updatedAt': '2025-03-28T13:44:26Z', 'contacts': [{'name': '', 'affiliation': ''}], 'authors': ['dmproot dmproot']}, {'name': 'Julie MUREL Collection', 'type': 'dataverse', 'url': 'https://demo.dataverse.org/dataverse/julieM0810', 'identifier': 'julieM0810', 'description': 'METADATA', 'published_at': '2022-10-25T08:55:36Z', 'publicationStatuses': ['Published'], 'affiliation': 'IRD', 'parentDataverseName': '\"Open Science in the South - Management and research data: panorama and perspectives in Africa,\" Dataverse', 'parentDataverseIdentifier': 'opensciencesouth'}, {'name': 'Public Data', 'type': 'dataverse', 'url': 'https://demo.dataverse.org/dataverse/DTL_public', 'identifier': 'DTL_public', 'description': 'Public dataverse with metadata from the Life Sciences', 'published_at': '2019-05-13T16:59:21Z', 'publicationStatuses': ['Published'], 'affiliation': 'DTL', 'parentDataverseName': 'DTL demo dataverse', 'parentDataverseIdentifier': 'DTL'}, {'name': 'KUB Demo', 'type': 'dataverse', 'url': 'https://demo.dataverse.org/dataverse/kubdemo', 'identifier': 'kubdemo', 'description': 'Dataverse with all standard metadata fields enabled', 'published_at': '2023-05-15T12:15:15Z', 'publicationStatuses': ['Published'], 'affiliation': 'Copenhagen University Library', 'parentDataverseName': 'Demo Dataverse', 'parentDataverseIdentifier': 'demo'}], 'count_in_response': 10}}\n"
          ]
        }
      ]
    },
    {
      "cell_type": "code",
      "source": [
        "result = didkit.verify_credential(vc_signed, {})\n",
        "print(result)"
      ],
      "metadata": {
        "colab": {
          "base_uri": "https://localhost:8080/",
          "height": 159
        },
        "id": "U8JNqLGMfA4S",
        "outputId": "eb37a66a-f187-4098-9052-56faab21c0e1"
      },
      "execution_count": null,
      "outputs": [
        {
          "output_type": "error",
          "ename": "NameError",
          "evalue": "name 'vc_signed' is not defined",
          "traceback": [
            "\u001b[0;31m---------------------------------------------------------------------------\u001b[0m",
            "\u001b[0;31mNameError\u001b[0m                                 Traceback (most recent call last)",
            "\u001b[0;32m/tmp/ipython-input-18-818525835.py\u001b[0m in \u001b[0;36m<cell line: 0>\u001b[0;34m()\u001b[0m\n\u001b[0;32m----> 1\u001b[0;31m \u001b[0mresult\u001b[0m \u001b[0;34m=\u001b[0m \u001b[0mdidkit\u001b[0m\u001b[0;34m.\u001b[0m\u001b[0mverify_credential\u001b[0m\u001b[0;34m(\u001b[0m\u001b[0mvc_signed\u001b[0m\u001b[0;34m,\u001b[0m \u001b[0;34m{\u001b[0m\u001b[0;34m}\u001b[0m\u001b[0;34m)\u001b[0m\u001b[0;34m\u001b[0m\u001b[0;34m\u001b[0m\u001b[0m\n\u001b[0m\u001b[1;32m      2\u001b[0m \u001b[0mprint\u001b[0m\u001b[0;34m(\u001b[0m\u001b[0mresult\u001b[0m\u001b[0;34m)\u001b[0m\u001b[0;34m\u001b[0m\u001b[0;34m\u001b[0m\u001b[0m\n",
            "\u001b[0;31mNameError\u001b[0m: name 'vc_signed' is not defined"
          ]
        }
      ]
    },
    {
      "cell_type": "code",
      "metadata": {
        "id": "ba7cb648"
      },
      "source": [
        "import asyncio\n",
        "import didkit\n",
        "import json\n",
        "\n",
        "async def issue_and_verify_credential(key):\n",
        "    # Get DID from the key\n",
        "    did = didkit.key_to_did(\"key\", key)\n",
        "    print(\"DID:\", did)\n",
        "\n",
        "    # Get the verification method using asyncio\n",
        "    verification_method_future = didkit.key_to_verification_method(\"key\", key)\n",
        "    verification_method = await verification_method_future\n",
        "    print(\"Verification Method:\", verification_method)\n",
        "\n",
        "    # Create proof options\n",
        "    proof_options = {\n",
        "        \"proofPurpose\": \"assertionMethod\",\n",
        "        \"verificationMethod\": verification_method\n",
        "    }\n",
        "\n",
        "    # Create your verifiable credential\n",
        "    vc = {\n",
        "        \"@context\": [\"https://www.w3.org/2018/credentials/v1\"],\n",
        "        \"type\": [\"VerifiableCredential\"],\n",
        "        \"issuer\": did,\n",
        "        \"issuanceDate\": \"2025-07-05T00:00:00Z\",\n",
        "        \"credentialSubject\": {\n",
        "            \"id\": did,\n",
        "            \"contribution\": \"Digitised 19th-century manuscript\"\n",
        "        }\n",
        "    }\n",
        "\n",
        "    # Issue the credential\n",
        "    vc_signed = await didkit.issue_credential(json.dumps(vc), json.dumps(proof_options), key)\n",
        "    print(\"Signed Credential:\", json.loads(vc_signed))\n",
        "\n",
        "    # Verify the credential\n",
        "    result = await didkit.verify_credential(vc_signed, \"{}\") # Pass proof options as empty string for default verification\n",
        "    print(\"Verification Result:\", result)\n",
        "\n",
        "    # Save the signed credential to a file\n",
        "    with open(\"sample_credential.json\", \"w\") as f:\n",
        "        json.dump(json.loads(vc_signed), f, indent=2)\n",
        "    print(\"Credential saved as sample_credential.json\")\n",
        "\n",
        "\n",
        "# Assuming 'key' is already defined from a previous cell\n",
        "# Run the async function\n",
        "# await issue_and_verify_credential(key)"
      ],
      "execution_count": null,
      "outputs": []
    },
    {
      "cell_type": "code",
      "source": [
        "vc[\"expirationDate\"] = \"2026-01-01T00:00:00Z\""
      ],
      "metadata": {
        "id": "CVKsLf7ifjjt"
      },
      "execution_count": null,
      "outputs": []
    },
    {
      "cell_type": "code",
      "source": [
        "metadata_registry = {}\n",
        "\n",
        "def register_metadata(did_id, metadata):\n",
        "    metadata_registry[did_id] = metadata\n",
        "    return f\"Metadata for {did_id} registered.\"\n",
        "\n",
        "# Example usage\n",
        "register_metadata(\"did:example:abcdef123\", {\n",
        "    \"name\": \"Heritage Archive Contributor\",\n",
        "    \"locale\": \"Kolkata\",\n",
        "    \"timestamp\": \"2025-07-05T20:00:00Z\"\n",
        "})\n",
        "print(metadata_registry)"
      ],
      "metadata": {
        "colab": {
          "base_uri": "https://localhost:8080/"
        },
        "id": "-nfaeBisgjpf",
        "outputId": "6350c08d-a058-4d28-81c9-b6a23b116adc"
      },
      "execution_count": null,
      "outputs": [
        {
          "output_type": "stream",
          "name": "stdout",
          "text": [
            "{'did:example:abcdef123': {'name': 'Heritage Archive Contributor', 'locale': 'Kolkata', 'timestamp': '2025-07-05T20:00:00Z'}}\n"
          ]
        }
      ]
    },
    {
      "cell_type": "code",
      "source": [
        "def lookup_metadata(did_id):\n",
        "    return metadata_registry.get(did_id, \"No metadata found.\")\n",
        "\n",
        "# Test it\n",
        "print(lookup_metadata(\"did:example:abcdef123\"))"
      ],
      "metadata": {
        "colab": {
          "base_uri": "https://localhost:8080/"
        },
        "id": "KwIz09LbhGop",
        "outputId": "47267af2-c768-462a-ade4-b54629488fbf"
      },
      "execution_count": null,
      "outputs": [
        {
          "output_type": "stream",
          "name": "stdout",
          "text": [
            "{'name': 'Heritage Archive Contributor', 'locale': 'Kolkata', 'timestamp': '2025-07-05T20:00:00Z'}\n"
          ]
        }
      ]
    },
    {
      "cell_type": "code",
      "source": [],
      "metadata": {
        "id": "TkDNX0_Ayk-l"
      },
      "execution_count": null,
      "outputs": []
    }
  ]
}